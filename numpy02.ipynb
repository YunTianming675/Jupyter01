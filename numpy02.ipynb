{
 "cells": [
  {
   "cell_type": "code",
   "execution_count": 1,
   "metadata": {},
   "outputs": [],
   "source": [
    "import numpy"
   ]
  },
  {
   "cell_type": "code",
   "execution_count": 2,
   "metadata": {},
   "outputs": [
    {
     "name": "stdout",
     "output_type": "stream",
     "text": [
      "[10 20 30 40] [0 1 2 3]\n",
      "[10 19 28 37]\n"
     ]
    }
   ],
   "source": [
    "a = numpy.array([10, 20, 30, 40])\n",
    "b = numpy.arange(4)\n",
    "\n",
    "# 减法，加法类似\n",
    "print(a, b)\n",
    "print(a - b)"
   ]
  },
  {
   "cell_type": "code",
   "execution_count": 3,
   "metadata": {},
   "outputs": [
    {
     "name": "stdout",
     "output_type": "stream",
     "text": [
      "[0 1 4 9]\n",
      "[ 0  1  8 27]\n"
     ]
    }
   ],
   "source": [
    "# 乘法，** 表示几次方的符号\n",
    "print(b ** 2)  # 求平方\n",
    "print(b ** 3)  # 求立方"
   ]
  },
  {
   "cell_type": "code",
   "execution_count": 5,
   "metadata": {},
   "outputs": [
    {
     "name": "stdout",
     "output_type": "stream",
     "text": [
      "[ True  True  True False]\n",
      "[False False False  True]\n"
     ]
    }
   ],
   "source": [
    "# 查看b中哪些值小于3\n",
    "print(b < 3)\n",
    "# 查看b中哪些值等于3\n",
    "print(b == 3)"
   ]
  },
  {
   "cell_type": "code",
   "execution_count": 9,
   "metadata": {},
   "outputs": [
    {
     "name": "stdout",
     "output_type": "stream",
     "text": [
      "a1 =  [[1 1]\n",
      " [0 1]]\n",
      "b1 =  [[0 1]\n",
      " [2 3]]\n",
      "[[0 1]\n",
      " [0 3]]\n",
      "[[2 4]\n",
      " [2 3]]\n",
      "[[2 4]\n",
      " [2 3]]\n"
     ]
    }
   ],
   "source": [
    "# 矩阵运算\n",
    "a1 = numpy.array([[1, 1], [0, 1]])\n",
    "b1 = numpy.arange(4).reshape((2, 2))\n",
    "print(\"a1 = \", a1)\n",
    "print(\"b1 = \", b1)\n",
    "print(a1 * b1)  # 元素逐个相乘\n",
    "print(numpy.dot(a1, b1))  # 矩阵乘法\n",
    "print(a1.dot(b1))  # 与上一行等价"
   ]
  },
  {
   "cell_type": "code",
   "execution_count": 11,
   "metadata": {},
   "outputs": [
    {
     "name": "stdout",
     "output_type": "stream",
     "text": [
      "[[0.87639853 0.68789107 0.78061515 0.95668424]\n",
      " [0.0889301  0.47759904 0.9505018  0.12013533]]\n"
     ]
    }
   ],
   "source": [
    "# 随机生成矩阵\n",
    "a2 = numpy.random.random((2, 4))  # 随机生成0-1之间的矩阵\n",
    "print(a2)"
   ]
  },
  {
   "cell_type": "code",
   "execution_count": 12,
   "metadata": {},
   "outputs": [
    {
     "name": "stdout",
     "output_type": "stream",
     "text": [
      "4.938755250983192\n",
      "0.08893009774563654\n",
      "0.9566842417671295\n"
     ]
    }
   ],
   "source": [
    "print(numpy.sum(a2))  # 对矩阵所有元素求和\n",
    "print(numpy.min(a2))  # 求所有元素的最小值\n",
    "print(numpy.max(a2))  # 求所有元素的最大值"
   ]
  },
  {
   "cell_type": "code",
   "execution_count": 15,
   "metadata": {},
   "outputs": [
    {
     "name": "stdout",
     "output_type": "stream",
     "text": [
      "[3.30158899 1.63716627]\n"
     ]
    }
   ],
   "source": [
    "print(numpy.sum(a2, axis=1))  # axis=1代表对各行求和，=0表示对各列求和"
   ]
  }
 ],
 "metadata": {
  "interpreter": {
   "hash": "0e631b30946532b150db112ff3233764a4d3c4ea49bdc66bef079771afae3a3c"
  },
  "kernelspec": {
   "display_name": "Python 3.8.13 ('py38_cu101')",
   "language": "python",
   "name": "python3"
  },
  "language_info": {
   "codemirror_mode": {
    "name": "ipython",
    "version": 3
   },
   "file_extension": ".py",
   "mimetype": "text/x-python",
   "name": "python",
   "nbconvert_exporter": "python",
   "pygments_lexer": "ipython3",
   "version": "3.8.13"
  },
  "orig_nbformat": 4
 },
 "nbformat": 4,
 "nbformat_minor": 2
}
