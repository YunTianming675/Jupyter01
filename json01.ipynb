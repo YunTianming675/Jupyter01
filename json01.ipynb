{
 "cells": [
  {
   "cell_type": "code",
   "execution_count": 1,
   "metadata": {},
   "outputs": [],
   "source": [
    "import json"
   ]
  },
  {
   "cell_type": "code",
   "execution_count": 2,
   "metadata": {},
   "outputs": [],
   "source": [
    "jsonpath = r\"D:\\Temp\\ChangeTest\\ChangeTest.json\""
   ]
  },
  {
   "cell_type": "code",
   "execution_count": 3,
   "metadata": {},
   "outputs": [],
   "source": [
    "with open(jsonpath, \"r\") as jsonfile:\n",
    "    load_dict = json.load(jsonfile)\n",
    "    jsonfile.close()"
   ]
  },
  {
   "cell_type": "code",
   "execution_count": 9,
   "metadata": {},
   "outputs": [
    {
     "name": "stdout",
     "output_type": "stream",
     "text": [
      "{'id': 1, 'width': 128, 'height': 128, 'file_name': 'Bao_03_21.jpg'}\n"
     ]
    }
   ],
   "source": [
    "imgs = load_dict[\"images\"]\n",
    "print(imgs[0])"
   ]
  },
  {
   "cell_type": "code",
   "execution_count": 8,
   "metadata": {},
   "outputs": [
    {
     "name": "stdout",
     "output_type": "stream",
     "text": [
      "{'id': 0, 'iscrowd': 0, 'image_id': 1, 'category_id': 1, 'segmentation': [[14.245847176079735, 52.943521594684384, 9.142857142857142, 57.40863787375415, 8.930232558139535, 64.63787375415282, 16.372093023255815, 68.67774086378738, 23.813953488372093, 66.12624584717608, 25.940199335548172, 58.47176079734219, 22.963455149501662, 52.30564784053156]], 'bbox': [8.930232558139535, 52.30564784053156, 17.009966777408636, 16.372093023255815], 'area': 211.9407953554597}\n"
     ]
    }
   ],
   "source": [
    "annotations = load_dict[\"annotations\"]\n",
    "print(annotations[0])"
   ]
  },
  {
   "cell_type": "code",
   "execution_count": 10,
   "metadata": {},
   "outputs": [
    {
     "name": "stdout",
     "output_type": "stream",
     "text": [
      "[[14.245847176079735, 52.943521594684384, 9.142857142857142, 57.40863787375415, 8.930232558139535, 64.63787375415282, 16.372093023255815, 68.67774086378738, 23.813953488372093, 66.12624584717608, 25.940199335548172, 58.47176079734219, 22.963455149501662, 52.30564784053156]]\n"
     ]
    }
   ],
   "source": [
    "print(annotations[0][\"segmentation\"])"
   ]
  },
  {
   "cell_type": "code",
   "execution_count": 15,
   "metadata": {},
   "outputs": [
    {
     "name": "stdout",
     "output_type": "stream",
     "text": [
      "['id', 'iscrowd', 'image_id', 'category_id', 'segmentation', 'bbox', 'area']\n"
     ]
    }
   ],
   "source": [
    "print(list(annotations[0].keys()))"
   ]
  },
  {
   "cell_type": "code",
   "execution_count": 20,
   "metadata": {},
   "outputs": [
    {
     "name": "stdout",
     "output_type": "stream",
     "text": [
      "[8.930232558139535, 52.30564784053156, 17.009966777408636, 16.372093023255815]\n",
      "[78.24584717607974, 55.49501661129568, 15.521594684385377, 18.923588039867113]\n"
     ]
    }
   ],
   "source": [
    "print(annotations[0][\"bbox\"])\n",
    "print(annotations[4][\"bbox\"])"
   ]
  },
  {
   "cell_type": "code",
   "execution_count": 17,
   "metadata": {},
   "outputs": [
    {
     "name": "stdout",
     "output_type": "stream",
     "text": [
      "211.9407953554597\n"
     ]
    }
   ],
   "source": [
    "print(annotations[0][\"area\"])"
   ]
  },
  {
   "cell_type": "code",
   "execution_count": 18,
   "metadata": {},
   "outputs": [
    {
     "name": "stdout",
     "output_type": "stream",
     "text": [
      "{'id': 1, 'iscrowd': 0, 'image_id': 2, 'category_id': 1, 'segmentation': [[77.1827242524917, 39.548172757475086, 74.4186046511628, 47.627906976744185, 74.84385382059801, 56.34551495016611, 83.77408637873755, 58.47176079734219, 90.79069767441861, 54.85714285714286, 90.79069767441861, 45.501661129568106, 87.60132890365449, 37.42192691029901]], 'bbox': [74.4186046511628, 37.42192691029901, 16.372093023255815, 21.049833887043185], 'area': 278.6921998653437}\n"
     ]
    }
   ],
   "source": [
    "print(annotations[1])"
   ]
  },
  {
   "cell_type": "code",
   "execution_count": 19,
   "metadata": {},
   "outputs": [
    {
     "name": "stdout",
     "output_type": "stream",
     "text": [
      "7\n",
      "43\n"
     ]
    }
   ],
   "source": [
    "print(len(imgs))\n",
    "print(len(annotations))"
   ]
  },
  {
   "cell_type": "code",
   "execution_count": null,
   "metadata": {},
   "outputs": [],
   "source": []
  }
 ],
 "metadata": {
  "interpreter": {
   "hash": "0e631b30946532b150db112ff3233764a4d3c4ea49bdc66bef079771afae3a3c"
  },
  "kernelspec": {
   "display_name": "Python 3.8.13 ('py38_cu101')",
   "language": "python",
   "name": "python3"
  },
  "language_info": {
   "codemirror_mode": {
    "name": "ipython",
    "version": 3
   },
   "file_extension": ".py",
   "mimetype": "text/x-python",
   "name": "python",
   "nbconvert_exporter": "python",
   "pygments_lexer": "ipython3",
   "version": "3.8.13"
  },
  "orig_nbformat": 4
 },
 "nbformat": 4,
 "nbformat_minor": 2
}
